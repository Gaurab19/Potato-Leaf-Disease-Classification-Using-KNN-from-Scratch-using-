{
 "cells": [
  {
   "cell_type": "code",
   "execution_count": 1,
   "id": "d29c1870",
   "metadata": {},
   "outputs": [],
   "source": [
    "import pandas as pd"
   ]
  },
  {
   "cell_type": "code",
   "execution_count": 2,
   "id": "b80ee584",
   "metadata": {},
   "outputs": [],
   "source": [
    "df = pd.read_csv('glfeat.csv')"
   ]
  },
  {
   "cell_type": "code",
   "execution_count": 2,
   "id": "6d5a70c3",
   "metadata": {},
   "outputs": [],
   "source": [
    "import numpy as np\n",
    "import os\n",
    "import math\n",
    "import matplotlib.pyplot as plt\n",
    "from skimage.feature import greycomatrix,greycoprops\n",
    "import pandas as pd\n",
    "import cv2\n",
    "from skimage.measure import label,regionprops\n",
    "import skimage"
   ]
  },
  {
   "cell_type": "code",
   "execution_count": 3,
   "id": "6b9c33f3",
   "metadata": {},
   "outputs": [],
   "source": [
    "proList = ['contrast', 'dissimilarity', 'homogeneity', 'ASM', 'energy']\n",
    "featlist = ['sumValue','contrast', 'dissimilarity', 'homogeneity', 'ASM', 'energy','hue','value', 'saturaton','label']\n",
    "properties =np.zeros(6)\n",
    "glcmMatrix = []\n",
    "final=[]\n",
    "crop = \"potato\"\n",
    "folders = [\"Potato___Early_blight\",\"Potato___healthy\",\"Potato___Late_blight\"]"
   ]
  },
  {
   "cell_type": "code",
   "execution_count": 23,
   "id": "f741d560",
   "metadata": {},
   "outputs": [
    {
     "name": "stdout",
     "output_type": "stream",
     "text": [
      "Potato___Early_blight\n",
      "0\n",
      "[[[188 175 177]\n",
      "  [188 175 177]\n",
      "  [188 175 177]\n",
      "  ...\n",
      "  [172 156 157]\n",
      "  [170 154 155]\n",
      "  [164 148 149]]\n",
      "\n",
      " [[189 176 178]\n",
      "  [188 175 177]\n",
      "  [187 174 176]\n",
      "  ...\n",
      "  [172 156 157]\n",
      "  [170 154 155]\n",
      "  [165 149 150]]\n",
      "\n",
      " [[189 176 178]\n",
      "  [188 175 177]\n",
      "  [186 173 175]\n",
      "  ...\n",
      "  [172 156 157]\n",
      "  [172 156 157]\n",
      "  [168 152 153]]\n",
      "\n",
      " ...\n",
      "\n",
      " [[126 119 122]\n",
      "  [127 120 123]\n",
      "  [139 132 135]\n",
      "  ...\n",
      "  [145 132 134]\n",
      "  [140 127 129]\n",
      "  [143 130 132]]\n",
      "\n",
      " [[141 134 137]\n",
      "  [159 152 155]\n",
      "  [141 134 137]\n",
      "  ...\n",
      "  [146 133 135]\n",
      "  [143 130 132]\n",
      "  [141 128 130]]\n",
      "\n",
      " [[142 135 138]\n",
      "  [143 136 139]\n",
      "  [160 153 156]\n",
      "  ...\n",
      "  [145 132 134]\n",
      "  [147 134 136]\n",
      "  [144 131 133]]]\n",
      "Potato___healthy\n",
      "1\n",
      "[[[150 144 163]\n",
      "  [149 143 162]\n",
      "  [147 141 160]\n",
      "  ...\n",
      "  [162 154 171]\n",
      "  [159 150 170]\n",
      "  [161 152 172]]\n",
      "\n",
      " [[140 134 153]\n",
      "  [140 134 153]\n",
      "  [142 136 155]\n",
      "  ...\n",
      "  [162 154 171]\n",
      "  [158 149 169]\n",
      "  [161 152 172]]\n",
      "\n",
      " [[145 139 158]\n",
      "  [145 139 158]\n",
      "  [145 139 158]\n",
      "  ...\n",
      "  [161 153 170]\n",
      "  [157 148 168]\n",
      "  [161 152 172]]\n",
      "\n",
      " ...\n",
      "\n",
      " [[141 134 149]\n",
      "  [152 145 160]\n",
      "  [139 132 147]\n",
      "  ...\n",
      "  [163 153 170]\n",
      "  [163 153 170]\n",
      "  [163 153 170]]\n",
      "\n",
      " [[133 126 141]\n",
      "  [156 149 164]\n",
      "  [136 129 144]\n",
      "  ...\n",
      "  [160 150 167]\n",
      "  [160 150 167]\n",
      "  [161 151 168]]\n",
      "\n",
      " [[130 123 138]\n",
      "  [158 151 166]\n",
      "  [135 128 143]\n",
      "  ...\n",
      "  [157 147 164]\n",
      "  [158 148 165]\n",
      "  [158 148 165]]]\n",
      "Potato___Late_blight\n",
      "2\n",
      "[[[177 177 193]\n",
      "  [183 183 199]\n",
      "  [192 192 208]\n",
      "  ...\n",
      "  [145 142 158]\n",
      "  [147 144 160]\n",
      "  [155 152 168]]\n",
      "\n",
      " [[178 178 194]\n",
      "  [184 184 200]\n",
      "  [190 190 206]\n",
      "  ...\n",
      "  [138 135 151]\n",
      "  [141 138 154]\n",
      "  [147 144 160]]\n",
      "\n",
      " [[181 181 197]\n",
      "  [185 185 201]\n",
      "  [189 189 205]\n",
      "  ...\n",
      "  [138 135 151]\n",
      "  [141 138 154]\n",
      "  [146 143 159]]\n",
      "\n",
      " ...\n",
      "\n",
      " [[129 131 161]\n",
      "  [119 121 151]\n",
      "  [127 129 159]\n",
      "  ...\n",
      "  [129 125 154]\n",
      "  [118 114 143]\n",
      "  [122 118 147]]\n",
      "\n",
      " [[111 113 143]\n",
      "  [120 122 152]\n",
      "  [135 137 167]\n",
      "  ...\n",
      "  [134 130 159]\n",
      "  [122 118 147]\n",
      "  [125 121 150]]\n",
      "\n",
      " [[112 114 144]\n",
      "  [120 122 152]\n",
      "  [121 123 153]\n",
      "  ...\n",
      "  [127 123 152]\n",
      "  [120 116 145]\n",
      "  [125 121 150]]]\n"
     ]
    }
   ],
   "source": [
    "for folder in folders:\n",
    "    print(folder)\n",
    "    labell = folders.index(folder)\n",
    "    print(labell)\n",
    "    INPUT_SCAN_FOLDER=\"C:/Users/dineu111/Documents/Potato/\"+folder+\"/\"\n",
    "\n",
    "    image_folder_list = os.listdir(INPUT_SCAN_FOLDER)\n",
    "    \n",
    "    abc = cv2.imread(INPUT_SCAN_FOLDER+image_folder_list[1])\n"
   ]
  },
  {
   "cell_type": "code",
   "execution_count": 26,
   "id": "6da00c52",
   "metadata": {},
   "outputs": [],
   "source": [
    "img = cv2.imread(r\"C:\\Users\\dineu111\\Documents\\Potato\\Potato___Early_blight\\a.jpg\")"
   ]
  },
  {
   "cell_type": "code",
   "execution_count": 28,
   "id": "4fd0d5cd",
   "metadata": {},
   "outputs": [],
   "source": [
    "resized = cv2.resize(img,(32,32),interpolation = cv2.INTER_AREA)"
   ]
  },
  {
   "cell_type": "code",
   "execution_count": 31,
   "id": "fc8f07e4",
   "metadata": {},
   "outputs": [
    {
     "data": {
      "text/plain": [
       "(32, 32, 3)"
      ]
     },
     "execution_count": 31,
     "metadata": {},
     "output_type": "execute_result"
    }
   ],
   "source": [
    "resized.shape"
   ]
  },
  {
   "cell_type": "code",
   "execution_count": 33,
   "id": "507d94ad",
   "metadata": {},
   "outputs": [],
   "source": [
    "gray_img = cv2.cvtColor(resized,cv2.COLOR_BGR2GRAY)\n",
    "hsv_img = cv2.cvtColor(resized,cv2.COLOR_BGR2HSV)"
   ]
  },
  {
   "cell_type": "code",
   "execution_count": null,
   "id": "754d2fe9",
   "metadata": {},
   "outputs": [],
   "source": []
  },
  {
   "cell_type": "code",
   "execution_count": null,
   "id": "35c2108c",
   "metadata": {},
   "outputs": [],
   "source": [
    " "
   ]
  }
 ],
 "metadata": {
  "kernelspec": {
   "display_name": "Python 3 (ipykernel)",
   "language": "python",
   "name": "python3"
  },
  "language_info": {
   "codemirror_mode": {
    "name": "ipython",
    "version": 3
   },
   "file_extension": ".py",
   "mimetype": "text/x-python",
   "name": "python",
   "nbconvert_exporter": "python",
   "pygments_lexer": "ipython3",
   "version": "3.9.7"
  }
 },
 "nbformat": 4,
 "nbformat_minor": 5
}
